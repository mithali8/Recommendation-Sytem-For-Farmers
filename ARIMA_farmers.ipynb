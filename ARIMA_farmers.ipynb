{
  "nbformat": 4,
  "nbformat_minor": 0,
  "metadata": {
    "colab": {
      "name": "ARIMA_farmers.ipynb",
      "provenance": [],
      "collapsed_sections": [],
      "mount_file_id": "1R0xLp3fiX38xFZQwGGOfHLE0jaOEwoeh",
      "authorship_tag": "ABX9TyNpRtg7K4nm5V0lPkhtcGMl",
      "include_colab_link": true
    },
    "kernelspec": {
      "name": "python3",
      "display_name": "Python 3"
    }
  },
  "cells": [
    {
      "cell_type": "markdown",
      "metadata": {
        "id": "view-in-github",
        "colab_type": "text"
      },
      "source": [
        "<a href=\"https://colab.research.google.com/github/mithali8/Recommendation-Sytem-For-Farmers/blob/master/ARIMA_farmers.ipynb\" target=\"_parent\"><img src=\"https://colab.research.google.com/assets/colab-badge.svg\" alt=\"Open In Colab\"/></a>"
      ]
    },
    {
      "cell_type": "code",
      "metadata": {
        "id": "sY16LiclWVyx"
      },
      "source": [
        "import pandas as pd\n",
        "import numpy as np\n",
        "from statsmodels.tsa.arima_model import ARIMA\n",
        "markets = ['BANGARPET', 'BINNY MILL (F&V)', 'C.R.NAGAR', 'CHICKBALLAPUR', 'DODDABALLAPUR', 'KOLAR', 'MYSURU', 'RAMANAGARA' ]\n",
        "\n",
        "df = pd.read_csv(\"/content/drive/My Drive/beet2019-trial.csv\")"
      ],
      "execution_count": 11,
      "outputs": []
    },
    {
      "cell_type": "code",
      "metadata": {
        "id": "JyFeJOGSWjvh"
      },
      "source": [
        "\n",
        "df = df.fillna(method='ffill')\n",
        "df.drop(df[df['Market'] == (\"Sub Total\" or \"Grand Total\")].index, inplace = True) \n",
        "df = df[df['Market'].isin(markets)]"
      ],
      "execution_count": 12,
      "outputs": []
    },
    {
      "cell_type": "code",
      "metadata": {
        "id": "cGccMvjGWz3n",
        "outputId": "aa485975-96fe-4172-cb62-1b0cd9eeef2a",
        "colab": {
          "base_uri": "https://localhost:8080/",
          "height": 402
        }
      },
      "source": [
        "kolar = df.loc[df['Market'] == 'MYSURU']\n",
        "kolar\n"
      ],
      "execution_count": 20,
      "outputs": [
        {
          "output_type": "execute_result",
          "data": {
            "text/html": [
              "<div>\n",
              "<style scoped>\n",
              "    .dataframe tbody tr th:only-of-type {\n",
              "        vertical-align: middle;\n",
              "    }\n",
              "\n",
              "    .dataframe tbody tr th {\n",
              "        vertical-align: top;\n",
              "    }\n",
              "\n",
              "    .dataframe thead th {\n",
              "        text-align: right;\n",
              "    }\n",
              "</style>\n",
              "<table border=\"1\" class=\"dataframe\">\n",
              "  <thead>\n",
              "    <tr style=\"text-align: right;\">\n",
              "      <th></th>\n",
              "      <th>Market</th>\n",
              "      <th>Date</th>\n",
              "      <th>Grade</th>\n",
              "      <th>Arrivals</th>\n",
              "      <th>Unit</th>\n",
              "      <th>Min</th>\n",
              "      <th>Max</th>\n",
              "      <th>Modal</th>\n",
              "    </tr>\n",
              "  </thead>\n",
              "  <tbody>\n",
              "    <tr>\n",
              "      <th>175</th>\n",
              "      <td>MYSURU</td>\n",
              "      <td>01/01/2019</td>\n",
              "      <td>AVERAGE</td>\n",
              "      <td>89</td>\n",
              "      <td>Quintal</td>\n",
              "      <td>800.0</td>\n",
              "      <td>1500.0</td>\n",
              "      <td>1200.0</td>\n",
              "    </tr>\n",
              "    <tr>\n",
              "      <th>176</th>\n",
              "      <td>MYSURU</td>\n",
              "      <td>05/01/2019</td>\n",
              "      <td>AVERAGE</td>\n",
              "      <td>86</td>\n",
              "      <td>Quintal</td>\n",
              "      <td>800.0</td>\n",
              "      <td>1500.0</td>\n",
              "      <td>1200.0</td>\n",
              "    </tr>\n",
              "    <tr>\n",
              "      <th>177</th>\n",
              "      <td>MYSURU</td>\n",
              "      <td>06/01/2019</td>\n",
              "      <td>AVERAGE</td>\n",
              "      <td>106</td>\n",
              "      <td>Quintal</td>\n",
              "      <td>800.0</td>\n",
              "      <td>1200.0</td>\n",
              "      <td>1000.0</td>\n",
              "    </tr>\n",
              "    <tr>\n",
              "      <th>178</th>\n",
              "      <td>MYSURU</td>\n",
              "      <td>09/01/2019</td>\n",
              "      <td>AVERAGE</td>\n",
              "      <td>86</td>\n",
              "      <td>Quintal</td>\n",
              "      <td>800.0</td>\n",
              "      <td>1500.0</td>\n",
              "      <td>1200.0</td>\n",
              "    </tr>\n",
              "    <tr>\n",
              "      <th>179</th>\n",
              "      <td>MYSURU</td>\n",
              "      <td>10/01/2019</td>\n",
              "      <td>AVERAGE</td>\n",
              "      <td>106</td>\n",
              "      <td>Quintal</td>\n",
              "      <td>800.0</td>\n",
              "      <td>1500.0</td>\n",
              "      <td>1200.0</td>\n",
              "    </tr>\n",
              "    <tr>\n",
              "      <th>...</th>\n",
              "      <td>...</td>\n",
              "      <td>...</td>\n",
              "      <td>...</td>\n",
              "      <td>...</td>\n",
              "      <td>...</td>\n",
              "      <td>...</td>\n",
              "      <td>...</td>\n",
              "      <td>...</td>\n",
              "    </tr>\n",
              "    <tr>\n",
              "      <th>2647</th>\n",
              "      <td>MYSURU</td>\n",
              "      <td>26/12/2019</td>\n",
              "      <td>AVERAGE</td>\n",
              "      <td>30</td>\n",
              "      <td>Quintal</td>\n",
              "      <td>1800.0</td>\n",
              "      <td>2000.0</td>\n",
              "      <td>1900.0</td>\n",
              "    </tr>\n",
              "    <tr>\n",
              "      <th>2648</th>\n",
              "      <td>MYSURU</td>\n",
              "      <td>27/12/2019</td>\n",
              "      <td>AVERAGE</td>\n",
              "      <td>24</td>\n",
              "      <td>Quintal</td>\n",
              "      <td>2300.0</td>\n",
              "      <td>2500.0</td>\n",
              "      <td>2400.0</td>\n",
              "    </tr>\n",
              "    <tr>\n",
              "      <th>2649</th>\n",
              "      <td>MYSURU</td>\n",
              "      <td>29/12/2019</td>\n",
              "      <td>AVERAGE</td>\n",
              "      <td>32</td>\n",
              "      <td>Quintal</td>\n",
              "      <td>2300.0</td>\n",
              "      <td>2500.0</td>\n",
              "      <td>2400.0</td>\n",
              "    </tr>\n",
              "    <tr>\n",
              "      <th>2650</th>\n",
              "      <td>MYSURU</td>\n",
              "      <td>30/12/2019</td>\n",
              "      <td>AVERAGE</td>\n",
              "      <td>24</td>\n",
              "      <td>Quintal</td>\n",
              "      <td>2300.0</td>\n",
              "      <td>2500.0</td>\n",
              "      <td>2450.0</td>\n",
              "    </tr>\n",
              "    <tr>\n",
              "      <th>2651</th>\n",
              "      <td>MYSURU</td>\n",
              "      <td>31/12/2019</td>\n",
              "      <td>AVERAGE</td>\n",
              "      <td>30</td>\n",
              "      <td>Quintal</td>\n",
              "      <td>2400.0</td>\n",
              "      <td>2600.0</td>\n",
              "      <td>2500.0</td>\n",
              "    </tr>\n",
              "  </tbody>\n",
              "</table>\n",
              "<p>279 rows × 8 columns</p>\n",
              "</div>"
            ],
            "text/plain": [
              "      Market        Date    Grade  Arrivals     Unit     Min     Max   Modal\n",
              "175   MYSURU  01/01/2019  AVERAGE        89  Quintal   800.0  1500.0  1200.0\n",
              "176   MYSURU  05/01/2019  AVERAGE        86  Quintal   800.0  1500.0  1200.0\n",
              "177   MYSURU  06/01/2019  AVERAGE       106  Quintal   800.0  1200.0  1000.0\n",
              "178   MYSURU  09/01/2019  AVERAGE        86  Quintal   800.0  1500.0  1200.0\n",
              "179   MYSURU  10/01/2019  AVERAGE       106  Quintal   800.0  1500.0  1200.0\n",
              "...      ...         ...      ...       ...      ...     ...     ...     ...\n",
              "2647  MYSURU  26/12/2019  AVERAGE        30  Quintal  1800.0  2000.0  1900.0\n",
              "2648  MYSURU  27/12/2019  AVERAGE        24  Quintal  2300.0  2500.0  2400.0\n",
              "2649  MYSURU  29/12/2019  AVERAGE        32  Quintal  2300.0  2500.0  2400.0\n",
              "2650  MYSURU  30/12/2019  AVERAGE        24  Quintal  2300.0  2500.0  2450.0\n",
              "2651  MYSURU  31/12/2019  AVERAGE        30  Quintal  2400.0  2600.0  2500.0\n",
              "\n",
              "[279 rows x 8 columns]"
            ]
          },
          "metadata": {
            "tags": []
          },
          "execution_count": 20
        }
      ]
    },
    {
      "cell_type": "code",
      "metadata": {
        "id": "aIAUOW-LW5YR"
      },
      "source": [
        "from pandas import datetime\n",
        "from matplotlib import pyplot\n",
        "from statsmodels.tsa.seasonal import seasonal_decompose\n",
        "#decomposition = seasonal_decompose(kolar)\n",
        " \n",
        "def difference(dataset, interval=1):\n",
        "    diff = []\n",
        "    for i in range(interval, len(dataset)):\n",
        "        value = dataset[i] - dataset[i-interval]\n",
        "        diff.append(value)\n",
        "    return np.array(diff)\n",
        "def inverse_difference(history, yhat, interval=1):\n",
        "  \n",
        "  return yhat + history[-interval]\n",
        "\n",
        "kolar_new = difference(kolar['Modal'].values)"
      ],
      "execution_count": 22,
      "outputs": []
    },
    {
      "cell_type": "code",
      "metadata": {
        "id": "lOdOHp0CXULf",
        "outputId": "d4b10b8c-9519-4bad-a192-e066c42bcfaf",
        "colab": {
          "base_uri": "https://localhost:8080/"
        }
      },
      "source": [
        "model = ARIMA(kolar_new, order=(3,0,2))\n",
        "model_fit = model.fit(disp=0)\n",
        "forecast = model_fit.predict(0,40)\n",
        "#forecast = inverse_difference(kolar['Modal'].values, forecast, 143)\n",
        "history = [x for x in kolar['Modal'].values]\n",
        "day = 1\n",
        "res = []\n",
        "for yhat in forecast:\n",
        "  inverted = inverse_difference(history, yhat, 279)\n",
        "  print('Day %d: %f' % (day, inverted))\n",
        "  res.append(inverted)\n",
        "  history.append(inverted)\n",
        "  day += 1"
      ],
      "execution_count": 23,
      "outputs": [
        {
          "output_type": "stream",
          "text": [
            "Day 1: 1204.494883\n",
            "Day 2: 1206.269198\n",
            "Day 3: 1099.104916\n",
            "Day 4: 1162.447706\n",
            "Day 5: 1206.344624\n",
            "Day 6: 1323.967479\n",
            "Day 7: 1258.164440\n",
            "Day 8: 1205.679928\n",
            "Day 9: 1248.113399\n",
            "Day 10: 1233.999828\n",
            "Day 11: 1457.830009\n",
            "Day 12: 1417.670688\n",
            "Day 13: 1262.202398\n",
            "Day 14: 1283.635808\n",
            "Day 15: 1421.961480\n",
            "Day 16: 1501.503933\n",
            "Day 17: 1507.097988\n",
            "Day 18: 1586.656421\n",
            "Day 19: 1594.869750\n",
            "Day 20: 1405.531705\n",
            "Day 21: 1342.411324\n",
            "Day 22: 1337.363107\n",
            "Day 23: 1280.614585\n",
            "Day 24: 1246.329556\n",
            "Day 25: 1228.662388\n",
            "Day 26: 1313.778125\n",
            "Day 27: 1258.132993\n",
            "Day 28: 1309.416743\n",
            "Day 29: 1376.364749\n",
            "Day 30: 1273.191166\n",
            "Day 31: 1249.733025\n",
            "Day 32: 1353.717558\n",
            "Day 33: 1375.202508\n",
            "Day 34: 1363.903511\n",
            "Day 35: 1384.428261\n",
            "Day 36: 1397.573023\n",
            "Day 37: 1404.416471\n",
            "Day 38: 1407.839811\n",
            "Day 39: 1409.537086\n",
            "Day 40: 1410.376863\n",
            "Day 41: 1175.958125\n"
          ],
          "name": "stdout"
        }
      ]
    },
    {
      "cell_type": "code",
      "metadata": {
        "id": "POLsQpP9XgC1",
        "outputId": "320a8e81-39b9-4ea4-a01e-729ee3213394",
        "colab": {
          "base_uri": "https://localhost:8080/"
        }
      },
      "source": [
        "kolar['Modal']"
      ],
      "execution_count": null,
      "outputs": [
        {
          "output_type": "execute_result",
          "data": {
            "text/plain": [
              "49      1200.0\n",
              "50      1350.0\n",
              "51      1300.0\n",
              "52      1300.0\n",
              "53      1250.0\n",
              "         ...  \n",
              "2525    1600.0\n",
              "2526    1900.0\n",
              "2527    1800.0\n",
              "2528    1450.0\n",
              "2529    1400.0\n",
              "Name: Modal, Length: 290, dtype: float64"
            ]
          },
          "metadata": {
            "tags": []
          },
          "execution_count": 169
        }
      ]
    },
    {
      "cell_type": "code",
      "metadata": {
        "id": "17np9lMSZDMX",
        "outputId": "1f70a847-8a55-4b50-90c8-34588108d9d5",
        "colab": {
          "base_uri": "https://localhost:8080/",
          "height": 282
        }
      },
      "source": [
        "import matplotlib.pyplot as plt\n",
        "actual = kolar['Modal'].values[0:21]\n",
        "plt.plot(res, color = \"green\")\n",
        "plt.plot(actual, color = \"red\")\n",
        "#z = np.mean(np.abs((actual - res) / actual)) * 100\n",
        "#print(\"MAPE:\", z)"
      ],
      "execution_count": 24,
      "outputs": [
        {
          "output_type": "execute_result",
          "data": {
            "text/plain": [
              "[<matplotlib.lines.Line2D at 0x7fa3f0eb5c50>]"
            ]
          },
          "metadata": {
            "tags": []
          },
          "execution_count": 24
        },
        {
          "output_type": "display_data",
          "data": {
            "image/png": "[encoded data removed]",
            "text/plain": [
              "<Figure size 432x288 with 1 Axes>"
            ]
          },
          "metadata": {
            "tags": [],
            "needs_background": "light"
          }
        }
      ]
    },
    {
      "cell_type": "code",
      "metadata": {
        "id": "UD0tS8nIa_Uy",
        "outputId": "462fc14b-f1e0-478c-ecc5-08374dbc5117",
        "colab": {
          "base_uri": "https://localhost:8080/",
          "height": 679
        }
      },
      "source": [
        "check = np.diff(kolar['Modal'])\n",
        "\n",
        "from statsmodels.graphics.tsaplots import plot_acf, plot_pacf\n",
        "plot_acf(check, lags = 20) #ma = \n",
        "plot_pacf(check, lags = 10) #ar = 4\n",
        "from statsmodels.tsa.stattools import adfuller\n",
        "result = adfuller(check)\n",
        "result"
      ],
      "execution_count": 15,
      "outputs": [
        {
          "output_type": "execute_result",
          "data": {
            "text/plain": [
              "(-12.317480567680262,\n",
              " 6.869495401896166e-23,\n",
              " 3,\n",
              " 274,\n",
              " {'1%': -3.4544435065994437,\n",
              "  '10%': -2.572422013959188,\n",
              "  '5%': -2.8721468827772774},\n",
              " 3585.2102025231093)"
            ]
          },
          "metadata": {
            "tags": []
          },
          "execution_count": 15
        },
        {
          "output_type": "display_data",
          "data": {
            "image/png": "[encoded data removed]",
            "text/plain": [
              "<Figure size 432x288 with 1 Axes>"
            ]
          },
          "metadata": {
            "tags": [],
            "needs_background": "light"
          }
        },
        {
          "output_type": "display_data",
          "data": {
            "image/png": "[encoded data removed]",
            "text/plain": [
              "<Figure size 432x288 with 1 Axes>"
            ]
          },
          "metadata": {
            "tags": [],
            "needs_background": "light"
          }
        }
      ]
    },
    {
      "cell_type": "code",
      "metadata": {
        "id": "AyuEf2yfbcVo"
      },
      "source": [
        ""
      ],
      "execution_count": null,
      "outputs": []
    }
  ]
}